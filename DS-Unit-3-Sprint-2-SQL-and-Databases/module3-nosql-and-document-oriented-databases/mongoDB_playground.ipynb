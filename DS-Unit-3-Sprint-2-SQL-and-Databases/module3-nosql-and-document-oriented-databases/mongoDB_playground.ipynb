{
 "cells": [
  {
   "cell_type": "markdown",
   "metadata": {},
   "source": [
    "# Lecture Notes"
   ]
  },
  {
   "cell_type": "code",
   "execution_count": 1,
   "metadata": {},
   "outputs": [],
   "source": [
    "import pymongo"
   ]
  },
  {
   "cell_type": "code",
   "execution_count": 2,
   "metadata": {},
   "outputs": [],
   "source": [
    "# This MongoClient class only works with Python 3.6+\n",
    "URI = \"\"\n",
    "client = pymongo.MongoClient(URI)\n",
    "db = client.test"
   ]
  },
  {
   "cell_type": "code",
   "execution_count": 3,
   "metadata": {},
   "outputs": [
    {
     "data": {
      "text/plain": [
       "Database(MongoClient(host=['cluster0-shard-00-01-uepjw.mongodb.net:27017', 'cluster0-shard-00-02-uepjw.mongodb.net:27017', 'cluster0-shard-00-00-uepjw.mongodb.net:27017'], document_class=dict, tz_aware=False, connect=True, authsource='admin', replicaset='Cluster0-shard-0', ssl=True, retrywrites=True, w='majority'), 'test')"
      ]
     },
     "execution_count": 3,
     "metadata": {},
     "output_type": "execute_result"
    }
   ],
   "source": [
    "db"
   ]
  },
  {
   "cell_type": "code",
   "execution_count": 4,
   "metadata": {},
   "outputs": [
    {
     "data": {
      "text/plain": [
       "frozenset({('cluster0-shard-00-00-uepjw.mongodb.net', 27017),\n",
       "           ('cluster0-shard-00-01-uepjw.mongodb.net', 27017),\n",
       "           ('cluster0-shard-00-02-uepjw.mongodb.net', 27017)})"
      ]
     },
     "execution_count": 4,
     "metadata": {},
     "output_type": "execute_result"
    }
   ],
   "source": [
    "client.nodes"
   ]
  },
  {
   "cell_type": "code",
   "execution_count": null,
   "metadata": {},
   "outputs": [],
   "source": [
    "help(db)"
   ]
  },
  {
   "cell_type": "code",
   "execution_count": 6,
   "metadata": {},
   "outputs": [
    {
     "data": {
      "text/plain": [
       "['_BaseObject__codec_options',\n",
       " '_BaseObject__read_concern',\n",
       " '_BaseObject__read_preference',\n",
       " '_BaseObject__write_concern',\n",
       " '_Database__client',\n",
       " '_Database__incoming_copying_manipulators',\n",
       " '_Database__incoming_manipulators',\n",
       " '_Database__name',\n",
       " '_Database__outgoing_copying_manipulators',\n",
       " '_Database__outgoing_manipulators',\n",
       " '__call__',\n",
       " '__class__',\n",
       " '__delattr__',\n",
       " '__dict__',\n",
       " '__dir__',\n",
       " '__doc__',\n",
       " '__eq__',\n",
       " '__format__',\n",
       " '__ge__',\n",
       " '__getattr__',\n",
       " '__getattribute__',\n",
       " '__getitem__',\n",
       " '__gt__',\n",
       " '__hash__',\n",
       " '__init__',\n",
       " '__init_subclass__',\n",
       " '__iter__',\n",
       " '__le__',\n",
       " '__lt__',\n",
       " '__module__',\n",
       " '__ne__',\n",
       " '__new__',\n",
       " '__next__',\n",
       " '__reduce__',\n",
       " '__reduce_ex__',\n",
       " '__repr__',\n",
       " '__setattr__',\n",
       " '__sizeof__',\n",
       " '__str__',\n",
       " '__subclasshook__',\n",
       " '__weakref__',\n",
       " '_apply_incoming_copying_manipulators',\n",
       " '_apply_incoming_manipulators',\n",
       " '_command',\n",
       " '_create_or_update_user',\n",
       " '_default_role',\n",
       " '_fix_incoming',\n",
       " '_fix_outgoing',\n",
       " '_list_collections',\n",
       " '_read_preference_for',\n",
       " '_write_concern_for',\n",
       " 'add_son_manipulator',\n",
       " 'add_user',\n",
       " 'authenticate',\n",
       " 'client',\n",
       " 'codec_options',\n",
       " 'collection_names',\n",
       " 'command',\n",
       " 'create_collection',\n",
       " 'current_op',\n",
       " 'dereference',\n",
       " 'drop_collection',\n",
       " 'error',\n",
       " 'eval',\n",
       " 'get_collection',\n",
       " 'incoming_copying_manipulators',\n",
       " 'incoming_manipulators',\n",
       " 'last_status',\n",
       " 'list_collection_names',\n",
       " 'list_collections',\n",
       " 'logout',\n",
       " 'name',\n",
       " 'next',\n",
       " 'outgoing_copying_manipulators',\n",
       " 'outgoing_manipulators',\n",
       " 'previous_error',\n",
       " 'profiling_info',\n",
       " 'profiling_level',\n",
       " 'read_concern',\n",
       " 'read_preference',\n",
       " 'remove_user',\n",
       " 'reset_error_history',\n",
       " 'set_profiling_level',\n",
       " 'system_js',\n",
       " 'validate_collection',\n",
       " 'watch',\n",
       " 'with_options',\n",
       " 'write_concern']"
      ]
     },
     "execution_count": 6,
     "metadata": {},
     "output_type": "execute_result"
    }
   ],
   "source": [
    "dir(db)"
   ]
  },
  {
   "cell_type": "code",
   "execution_count": 8,
   "metadata": {},
   "outputs": [
    {
     "name": "stdout",
     "output_type": "stream",
     "text": [
      "Help on method insert_one in module pymongo.collection:\n",
      "\n",
      "insert_one(document, bypass_document_validation=False, session=None) method of pymongo.collection.Collection instance\n",
      "    Insert a single document.\n",
      "    \n",
      "      >>> db.test.count_documents({'x': 1})\n",
      "      0\n",
      "      >>> result = db.test.insert_one({'x': 1})\n",
      "      >>> result.inserted_id\n",
      "      ObjectId('54f112defba522406c9cc208')\n",
      "      >>> db.test.find_one({'x': 1})\n",
      "      {u'x': 1, u'_id': ObjectId('54f112defba522406c9cc208')}\n",
      "    \n",
      "    :Parameters:\n",
      "      - `document`: The document to insert. Must be a mutable mapping\n",
      "        type. If the document does not have an _id field one will be\n",
      "        added automatically.\n",
      "      - `bypass_document_validation`: (optional) If ``True``, allows the\n",
      "        write to opt-out of document level validation. Default is\n",
      "        ``False``.\n",
      "      - `session` (optional): a\n",
      "        :class:`~pymongo.client_session.ClientSession`.\n",
      "    \n",
      "    :Returns:\n",
      "      - An instance of :class:`~pymongo.results.InsertOneResult`.\n",
      "    \n",
      "    .. seealso:: :ref:`writes-and-ids`\n",
      "    \n",
      "    .. note:: `bypass_document_validation` requires server version\n",
      "      **>= 3.2**\n",
      "    \n",
      "    .. versionchanged:: 3.6\n",
      "       Added ``session`` parameter.\n",
      "    \n",
      "    .. versionchanged:: 3.2\n",
      "      Added bypass_document_validation support\n",
      "    \n",
      "    .. versionadded:: 3.0\n",
      "\n"
     ]
    }
   ],
   "source": [
    "help(db.test.insert_one)"
   ]
  },
  {
   "cell_type": "code",
   "execution_count": 9,
   "metadata": {},
   "outputs": [
    {
     "data": {
      "text/plain": [
       "0"
      ]
     },
     "execution_count": 9,
     "metadata": {},
     "output_type": "execute_result"
    }
   ],
   "source": [
    "# Think of `test` as a table inside of db\n",
    "db.test.count_documents({'x': 1})"
   ]
  },
  {
   "cell_type": "code",
   "execution_count": 10,
   "metadata": {},
   "outputs": [
    {
     "data": {
      "text/plain": [
       "<pymongo.results.InsertOneResult at 0x7fd9c4380508>"
      ]
     },
     "execution_count": 10,
     "metadata": {},
     "output_type": "execute_result"
    }
   ],
   "source": [
    "db.test.insert_one({'x': 1})"
   ]
  },
  {
   "cell_type": "code",
   "execution_count": 11,
   "metadata": {},
   "outputs": [
    {
     "data": {
      "text/plain": [
       "1"
      ]
     },
     "execution_count": 11,
     "metadata": {},
     "output_type": "execute_result"
    }
   ],
   "source": [
    "db.test.count_documents({'x': 1})"
   ]
  },
  {
   "cell_type": "code",
   "execution_count": 12,
   "metadata": {},
   "outputs": [
    {
     "data": {
      "text/plain": [
       "<pymongo.results.InsertOneResult at 0x7fd9c4060a08>"
      ]
     },
     "execution_count": 12,
     "metadata": {},
     "output_type": "execute_result"
    }
   ],
   "source": [
    "db.test.insert_one({'x': 1})"
   ]
  },
  {
   "cell_type": "code",
   "execution_count": 13,
   "metadata": {},
   "outputs": [
    {
     "data": {
      "text/plain": [
       "2"
      ]
     },
     "execution_count": 13,
     "metadata": {},
     "output_type": "execute_result"
    }
   ],
   "source": [
    "db.test.count_documents({'x': 1})"
   ]
  },
  {
   "cell_type": "code",
   "execution_count": 14,
   "metadata": {},
   "outputs": [
    {
     "data": {
      "text/plain": [
       "<pymongo.cursor.Cursor at 0x7fd9c403b550>"
      ]
     },
     "execution_count": 14,
     "metadata": {},
     "output_type": "execute_result"
    }
   ],
   "source": [
    "db.test.find()"
   ]
  },
  {
   "cell_type": "code",
   "execution_count": 15,
   "metadata": {},
   "outputs": [
    {
     "data": {
      "text/plain": [
       "{'favorite animal': 'silver panther'}"
      ]
     },
     "execution_count": 15,
     "metadata": {},
     "output_type": "execute_result"
    }
   ],
   "source": [
    "artins_doc = {'favorite animal': 'silver panther'}\n",
    "artins_doc"
   ]
  },
  {
   "cell_type": "code",
   "execution_count": 16,
   "metadata": {},
   "outputs": [
    {
     "data": {
      "text/plain": [
       "<pymongo.results.InsertOneResult at 0x7fd9c402a048>"
      ]
     },
     "execution_count": 16,
     "metadata": {},
     "output_type": "execute_result"
    }
   ],
   "source": [
    "db.test.insert_one(artins_doc)"
   ]
  },
  {
   "cell_type": "code",
   "execution_count": 17,
   "metadata": {},
   "outputs": [
    {
     "data": {
      "text/plain": [
       "{'_id': ObjectId('5cf7fc07caeb5981c40a0ca2'),\n",
       " 'favorite animal': 'silver panther'}"
      ]
     },
     "execution_count": 17,
     "metadata": {},
     "output_type": "execute_result"
    }
   ],
   "source": [
    "# Search by object\n",
    "db.test.find_one(artins_doc)"
   ]
  },
  {
   "cell_type": "code",
   "execution_count": 18,
   "metadata": {},
   "outputs": [
    {
     "data": {
      "text/plain": [
       "{'_id': ObjectId('5cf7fb0ccaeb5981c40a0ca0'), 'x': 1}"
      ]
     },
     "execution_count": 18,
     "metadata": {},
     "output_type": "execute_result"
    }
   ],
   "source": [
    "# Gets only one document\n",
    "db.test.find_one({'x': 1})"
   ]
  },
  {
   "cell_type": "code",
   "execution_count": 20,
   "metadata": {},
   "outputs": [
    {
     "data": {
      "text/plain": [
       "[{'_id': ObjectId('5cf7fb0ccaeb5981c40a0ca0'), 'x': 1},\n",
       " {'_id': ObjectId('5cf7fb48caeb5981c40a0ca1'), 'x': 1},\n",
       " {'_id': ObjectId('5cf7fc07caeb5981c40a0ca2'),\n",
       "  'favorite animal': 'silver panther'}]"
      ]
     },
     "execution_count": 20,
     "metadata": {},
     "output_type": "execute_result"
    }
   ],
   "source": [
    "results = db.test.find()\n",
    "list(results)"
   ]
  },
  {
   "cell_type": "code",
   "execution_count": 21,
   "metadata": {},
   "outputs": [
    {
     "data": {
      "text/plain": [
       "[{'_id': ObjectId('5cf7fb0ccaeb5981c40a0ca0'), 'x': 1},\n",
       " {'_id': ObjectId('5cf7fb48caeb5981c40a0ca1'), 'x': 1},\n",
       " {'_id': ObjectId('5cf7fc07caeb5981c40a0ca2'),\n",
       "  'favorite animal': 'silver panther'}]"
      ]
     },
     "execution_count": 21,
     "metadata": {},
     "output_type": "execute_result"
    }
   ],
   "source": [
    "list(db.test.find())"
   ]
  },
  {
   "cell_type": "code",
   "execution_count": 22,
   "metadata": {},
   "outputs": [],
   "source": [
    "alexanders_doc = {'favorite animal': 'parrot'}\n",
    "wills_favorite = {'favorite animal': 'goose'}"
   ]
  },
  {
   "cell_type": "code",
   "execution_count": 23,
   "metadata": {},
   "outputs": [
    {
     "data": {
      "text/plain": [
       "<pymongo.results.InsertManyResult at 0x7fd9c402a788>"
      ]
     },
     "execution_count": 23,
     "metadata": {},
     "output_type": "execute_result"
    }
   ],
   "source": [
    "db.test.insert_many([alexanders_doc, wills_favorite])"
   ]
  },
  {
   "cell_type": "code",
   "execution_count": 24,
   "metadata": {},
   "outputs": [
    {
     "data": {
      "text/plain": [
       "[{'_id': ObjectId('5cf7fb0ccaeb5981c40a0ca0'), 'x': 1},\n",
       " {'_id': ObjectId('5cf7fb48caeb5981c40a0ca1'), 'x': 1},\n",
       " {'_id': ObjectId('5cf7fc07caeb5981c40a0ca2'),\n",
       "  'favorite animal': 'silver panther'},\n",
       " {'_id': ObjectId('5cf7fcbccaeb5981c40a0ca3'), 'favorite animal': 'parrot'},\n",
       " {'_id': ObjectId('5cf7fcbccaeb5981c40a0ca4'), 'favorite animal': 'goose'}]"
      ]
     },
     "execution_count": 24,
     "metadata": {},
     "output_type": "execute_result"
    }
   ],
   "source": [
    "list(db.test.find())"
   ]
  },
  {
   "cell_type": "code",
   "execution_count": 27,
   "metadata": {},
   "outputs": [
    {
     "data": {
      "text/plain": [
       "[{'even': True, 'value': 0},\n",
       " {'even': False, 'value': 1},\n",
       " {'even': True, 'value': 2},\n",
       " {'even': False, 'value': 3},\n",
       " {'even': True, 'value': 4},\n",
       " {'even': False, 'value': 5},\n",
       " {'even': True, 'value': 6},\n",
       " {'even': False, 'value': 7},\n",
       " {'even': True, 'value': 8},\n",
       " {'even': False, 'value': 9}]"
      ]
     },
     "execution_count": 27,
     "metadata": {},
     "output_type": "execute_result"
    }
   ],
   "source": [
    "docs = []\n",
    "for i in range(10):\n",
    "    doc = {'even': i%2==0}\n",
    "    doc['value'] = i\n",
    "    docs.append(doc)\n",
    "\n",
    "docs"
   ]
  },
  {
   "cell_type": "code",
   "execution_count": 28,
   "metadata": {},
   "outputs": [
    {
     "data": {
      "text/plain": [
       "<pymongo.results.InsertManyResult at 0x7fd9a292ac08>"
      ]
     },
     "execution_count": 28,
     "metadata": {},
     "output_type": "execute_result"
    }
   ],
   "source": [
    "db.test.insert_many(docs)"
   ]
  },
  {
   "cell_type": "code",
   "execution_count": 29,
   "metadata": {},
   "outputs": [
    {
     "data": {
      "text/plain": [
       "[{'_id': ObjectId('5cf7fda0caeb5981c40a0ca5'), 'even': True, 'value': 0},\n",
       " {'_id': ObjectId('5cf7fda0caeb5981c40a0ca7'), 'even': True, 'value': 2},\n",
       " {'_id': ObjectId('5cf7fda0caeb5981c40a0ca9'), 'even': True, 'value': 4},\n",
       " {'_id': ObjectId('5cf7fda0caeb5981c40a0cab'), 'even': True, 'value': 6},\n",
       " {'_id': ObjectId('5cf7fda0caeb5981c40a0cad'), 'even': True, 'value': 8}]"
      ]
     },
     "execution_count": 29,
     "metadata": {},
     "output_type": "execute_result"
    }
   ],
   "source": [
    "list(db.test.find({'even': True}))"
   ]
  },
  {
   "cell_type": "code",
   "execution_count": 30,
   "metadata": {},
   "outputs": [
    {
     "data": {
      "text/plain": [
       "[{'_id': ObjectId('5cf7fda0caeb5981c40a0ca6'), 'even': False, 'value': 1},\n",
       " {'_id': ObjectId('5cf7fda0caeb5981c40a0ca8'), 'even': False, 'value': 3},\n",
       " {'_id': ObjectId('5cf7fda0caeb5981c40a0caa'), 'even': False, 'value': 5},\n",
       " {'_id': ObjectId('5cf7fda0caeb5981c40a0cac'), 'even': False, 'value': 7},\n",
       " {'_id': ObjectId('5cf7fda0caeb5981c40a0cae'), 'even': False, 'value': 9}]"
      ]
     },
     "execution_count": 30,
     "metadata": {},
     "output_type": "execute_result"
    }
   ],
   "source": [
    "list(db.test.find({'even': False}))"
   ]
  },
  {
   "cell_type": "code",
   "execution_count": 31,
   "metadata": {},
   "outputs": [],
   "source": [
    "# Python dictionary keys can be anything immutable (like tuples)\n",
    "cool_dict = {\n",
    "    'awesome': True,\n",
    "    'even': False,\n",
    "    'lucky numbers': [1,2,3],\n",
    "    '(3, 4)': (5, 6),\n",
    "}"
   ]
  },
  {
   "cell_type": "code",
   "execution_count": null,
   "metadata": {},
   "outputs": [],
   "source": [
    "db.test.insert_one(cool_dict)\n",
    "\n",
    "#############################\n",
    "# InvalidDocument: documents must have \n",
    "# only string keys, key was (3, 4)\n",
    "#############################"
   ]
  },
  {
   "cell_type": "code",
   "execution_count": 33,
   "metadata": {},
   "outputs": [
    {
     "data": {
      "text/plain": [
       "{'awesome': True,\n",
       " 'even': False,\n",
       " 'lucky numbers': [1, 2, 3],\n",
       " '(3, 4)': (5, 6),\n",
       " '_id': ObjectId('5cf7fe6fcaeb5981c40a0caf')}"
      ]
     },
     "execution_count": 33,
     "metadata": {},
     "output_type": "execute_result"
    }
   ],
   "source": [
    "fixed_dict = {str(key): value for key, value in cool_dict.items()}\n",
    "fixed_dict"
   ]
  },
  {
   "cell_type": "code",
   "execution_count": 34,
   "metadata": {},
   "outputs": [
    {
     "data": {
      "text/plain": [
       "<pymongo.results.InsertOneResult at 0x7fd9a2c9c908>"
      ]
     },
     "execution_count": 34,
     "metadata": {},
     "output_type": "execute_result"
    }
   ],
   "source": [
    "db.test.insert_one(fixed_dict)"
   ]
  },
  {
   "cell_type": "code",
   "execution_count": null,
   "metadata": {},
   "outputs": [],
   "source": [
    "db.test.insert_one(fixed_dict)\n",
    "\n",
    "################################\n",
    "# DuplicateKeyError: E11000 duplicate key \n",
    "# error collection: test.test index: _id_ \n",
    "# dup key: { : ObjectId('5cf7fe6fcaeb5981c40a0caf') }\n",
    "################################"
   ]
  },
  {
   "cell_type": "code",
   "execution_count": 37,
   "metadata": {},
   "outputs": [],
   "source": [
    "rpg_character = (1, 'Urik the Seer', 10, 3, 0, 0, 0)"
   ]
  },
  {
   "cell_type": "code",
   "execution_count": 38,
   "metadata": {},
   "outputs": [
    {
     "ename": "TypeError",
     "evalue": "document must be an instance of dict, bson.son.SON, bson.raw_bson.RawBSONDocument, or a type that inherits from collections.MutableMapping",
     "output_type": "error",
     "traceback": [
      "\u001b[0;31m---------------------------------------------------------------------------\u001b[0m",
      "\u001b[0;31mTypeError\u001b[0m                                 Traceback (most recent call last)",
      "\u001b[0;32m<ipython-input-38-501da510ae65>\u001b[0m in \u001b[0;36m<module>\u001b[0;34m\u001b[0m\n\u001b[0;32m----> 1\u001b[0;31m \u001b[0mdb\u001b[0m\u001b[0;34m.\u001b[0m\u001b[0mtest\u001b[0m\u001b[0;34m.\u001b[0m\u001b[0minsert_one\u001b[0m\u001b[0;34m(\u001b[0m\u001b[0mrpg_character\u001b[0m\u001b[0;34m)\u001b[0m\u001b[0;34m\u001b[0m\u001b[0;34m\u001b[0m\u001b[0m\n\u001b[0m",
      "\u001b[0;32m~/miniconda3/envs/lambda/lib/python3.7/site-packages/pymongo/collection.py\u001b[0m in \u001b[0;36minsert_one\u001b[0;34m(self, document, bypass_document_validation, session)\u001b[0m\n\u001b[1;32m    689\u001b[0m         \u001b[0;34m.\u001b[0m\u001b[0;34m.\u001b[0m \u001b[0mversionadded\u001b[0m\u001b[0;34m:\u001b[0m\u001b[0;34m:\u001b[0m \u001b[0;36m3.0\u001b[0m\u001b[0;34m\u001b[0m\u001b[0;34m\u001b[0m\u001b[0m\n\u001b[1;32m    690\u001b[0m         \"\"\"\n\u001b[0;32m--> 691\u001b[0;31m         \u001b[0mcommon\u001b[0m\u001b[0;34m.\u001b[0m\u001b[0mvalidate_is_document_type\u001b[0m\u001b[0;34m(\u001b[0m\u001b[0;34m\"document\"\u001b[0m\u001b[0;34m,\u001b[0m \u001b[0mdocument\u001b[0m\u001b[0;34m)\u001b[0m\u001b[0;34m\u001b[0m\u001b[0;34m\u001b[0m\u001b[0m\n\u001b[0m\u001b[1;32m    692\u001b[0m         \u001b[0;32mif\u001b[0m \u001b[0;32mnot\u001b[0m \u001b[0;34m(\u001b[0m\u001b[0misinstance\u001b[0m\u001b[0;34m(\u001b[0m\u001b[0mdocument\u001b[0m\u001b[0;34m,\u001b[0m \u001b[0mRawBSONDocument\u001b[0m\u001b[0;34m)\u001b[0m \u001b[0;32mor\u001b[0m \u001b[0;34m\"_id\"\u001b[0m \u001b[0;32min\u001b[0m \u001b[0mdocument\u001b[0m\u001b[0;34m)\u001b[0m\u001b[0;34m:\u001b[0m\u001b[0;34m\u001b[0m\u001b[0;34m\u001b[0m\u001b[0m\n\u001b[1;32m    693\u001b[0m             \u001b[0mdocument\u001b[0m\u001b[0;34m[\u001b[0m\u001b[0;34m\"_id\"\u001b[0m\u001b[0;34m]\u001b[0m \u001b[0;34m=\u001b[0m \u001b[0mObjectId\u001b[0m\u001b[0;34m(\u001b[0m\u001b[0;34m)\u001b[0m\u001b[0;34m\u001b[0m\u001b[0;34m\u001b[0m\u001b[0m\n",
      "\u001b[0;32m~/miniconda3/envs/lambda/lib/python3.7/site-packages/pymongo/common.py\u001b[0m in \u001b[0;36mvalidate_is_document_type\u001b[0;34m(option, value)\u001b[0m\n\u001b[1;32m    459\u001b[0m                         \u001b[0;34m\"bson.raw_bson.RawBSONDocument, or \"\u001b[0m\u001b[0;34m\u001b[0m\u001b[0;34m\u001b[0m\u001b[0m\n\u001b[1;32m    460\u001b[0m                         \u001b[0;34m\"a type that inherits from \"\u001b[0m\u001b[0;34m\u001b[0m\u001b[0;34m\u001b[0m\u001b[0m\n\u001b[0;32m--> 461\u001b[0;31m                         \"collections.MutableMapping\" % (option,))\n\u001b[0m\u001b[1;32m    462\u001b[0m \u001b[0;34m\u001b[0m\u001b[0m\n\u001b[1;32m    463\u001b[0m \u001b[0;34m\u001b[0m\u001b[0m\n",
      "\u001b[0;31mTypeError\u001b[0m: document must be an instance of dict, bson.son.SON, bson.raw_bson.RawBSONDocument, or a type that inherits from collections.MutableMapping"
     ]
    }
   ],
   "source": [
    "db.test.insert_one(rpg_character)"
   ]
  },
  {
   "cell_type": "code",
   "execution_count": 39,
   "metadata": {},
   "outputs": [
    {
     "data": {
      "text/plain": [
       "{'_id': ObjectId('5cf7fff5caeb5981c40a0cb0'),\n",
       " 'rpg_character': [1, 'Urik the Seer', 10, 3, 0, 0, 0]}"
      ]
     },
     "execution_count": 39,
     "metadata": {},
     "output_type": "execute_result"
    }
   ],
   "source": [
    "db.test.insert_one({'rpg_character': rpg_character})\n",
    "db.test.find_one({'rpg_character': rpg_character})"
   ]
  },
  {
   "cell_type": "code",
   "execution_count": 40,
   "metadata": {},
   "outputs": [
    {
     "data": {
      "text/plain": [
       "<pymongo.results.InsertOneResult at 0x7fd9a2b72b08>"
      ]
     },
     "execution_count": 40,
     "metadata": {},
     "output_type": "execute_result"
    }
   ],
   "source": [
    "db.test.insert_one({\n",
    "    'sql_id': 1,\n",
    "    'name': rpg_character[1],\n",
    "    'hp': rpg_character[2],\n",
    "    'level': rpg_character[3],\n",
    "})"
   ]
  },
  {
   "cell_type": "code",
   "execution_count": 42,
   "metadata": {},
   "outputs": [
    {
     "data": {
      "text/plain": [
       "[{'_id': ObjectId('5cf7fb0ccaeb5981c40a0ca0'), 'x': 1},\n",
       " {'_id': ObjectId('5cf7fb48caeb5981c40a0ca1'), 'x': 1},\n",
       " {'_id': ObjectId('5cf7fc07caeb5981c40a0ca2'),\n",
       "  'favorite animal': 'silver panther'},\n",
       " {'_id': ObjectId('5cf7fcbccaeb5981c40a0ca3'), 'favorite animal': 'parrot'},\n",
       " {'_id': ObjectId('5cf7fcbccaeb5981c40a0ca4'), 'favorite animal': 'goose'},\n",
       " {'_id': ObjectId('5cf7fda0caeb5981c40a0ca5'), 'even': True, 'value': 0},\n",
       " {'_id': ObjectId('5cf7fda0caeb5981c40a0ca6'), 'even': False, 'value': 1},\n",
       " {'_id': ObjectId('5cf7fda0caeb5981c40a0ca7'), 'even': True, 'value': 2},\n",
       " {'_id': ObjectId('5cf7fda0caeb5981c40a0ca8'), 'even': False, 'value': 3},\n",
       " {'_id': ObjectId('5cf7fda0caeb5981c40a0ca9'), 'even': True, 'value': 4},\n",
       " {'_id': ObjectId('5cf7fda0caeb5981c40a0caa'), 'even': False, 'value': 5},\n",
       " {'_id': ObjectId('5cf7fda0caeb5981c40a0cab'), 'even': True, 'value': 6},\n",
       " {'_id': ObjectId('5cf7fda0caeb5981c40a0cac'), 'even': False, 'value': 7},\n",
       " {'_id': ObjectId('5cf7fda0caeb5981c40a0cad'), 'even': True, 'value': 8},\n",
       " {'_id': ObjectId('5cf7fda0caeb5981c40a0cae'), 'even': False, 'value': 9},\n",
       " {'_id': ObjectId('5cf7fe6fcaeb5981c40a0caf'),\n",
       "  'awesome': True,\n",
       "  'even': False,\n",
       "  'lucky numbers': [1, 2, 3],\n",
       "  '(3, 4)': [5, 6]},\n",
       " {'_id': ObjectId('5cf7fff5caeb5981c40a0cb0'),\n",
       "  'rpg_character': [1, 'Urik the Seer', 10, 3, 0, 0, 0]},\n",
       " {'_id': ObjectId('5cf80033caeb5981c40a0cb1'),\n",
       "  'sql_id': 1,\n",
       "  'name': 'Urik the Seer',\n",
       "  'hp': 10,\n",
       "  'level': 3}]"
      ]
     },
     "execution_count": 42,
     "metadata": {},
     "output_type": "execute_result"
    }
   ],
   "source": [
    "list(db.test.find())"
   ]
  },
  {
   "cell_type": "code",
   "execution_count": 43,
   "metadata": {},
   "outputs": [
    {
     "data": {
      "text/plain": [
       "<pymongo.results.InsertOneResult at 0x7fd9a2caa908>"
      ]
     },
     "execution_count": 43,
     "metadata": {},
     "output_type": "execute_result"
    }
   ],
   "source": [
    "another_character = (2, 'Tyrael', 10, 4, 0, 0, 0)\n",
    "db.test.insert_one({\n",
    "    'sql_id': 1,\n",
    "    'name': another_character[1],\n",
    "    'hp': another_character[2],\n",
    "    'level': another_character[3],\n",
    "})"
   ]
  },
  {
   "cell_type": "code",
   "execution_count": 44,
   "metadata": {},
   "outputs": [
    {
     "data": {
      "text/plain": [
       "[{'_id': ObjectId('5cf7fb0ccaeb5981c40a0ca0'), 'x': 1},\n",
       " {'_id': ObjectId('5cf7fb48caeb5981c40a0ca1'), 'x': 1},\n",
       " {'_id': ObjectId('5cf7fc07caeb5981c40a0ca2'),\n",
       "  'favorite animal': 'silver panther'},\n",
       " {'_id': ObjectId('5cf7fcbccaeb5981c40a0ca3'), 'favorite animal': 'parrot'},\n",
       " {'_id': ObjectId('5cf7fcbccaeb5981c40a0ca4'), 'favorite animal': 'goose'},\n",
       " {'_id': ObjectId('5cf7fda0caeb5981c40a0ca5'), 'even': True, 'value': 0},\n",
       " {'_id': ObjectId('5cf7fda0caeb5981c40a0ca6'), 'even': False, 'value': 1},\n",
       " {'_id': ObjectId('5cf7fda0caeb5981c40a0ca7'), 'even': True, 'value': 2},\n",
       " {'_id': ObjectId('5cf7fda0caeb5981c40a0ca8'), 'even': False, 'value': 3},\n",
       " {'_id': ObjectId('5cf7fda0caeb5981c40a0ca9'), 'even': True, 'value': 4},\n",
       " {'_id': ObjectId('5cf7fda0caeb5981c40a0caa'), 'even': False, 'value': 5},\n",
       " {'_id': ObjectId('5cf7fda0caeb5981c40a0cab'), 'even': True, 'value': 6},\n",
       " {'_id': ObjectId('5cf7fda0caeb5981c40a0cac'), 'even': False, 'value': 7},\n",
       " {'_id': ObjectId('5cf7fda0caeb5981c40a0cad'), 'even': True, 'value': 8},\n",
       " {'_id': ObjectId('5cf7fda0caeb5981c40a0cae'), 'even': False, 'value': 9},\n",
       " {'_id': ObjectId('5cf7fe6fcaeb5981c40a0caf'),\n",
       "  'awesome': True,\n",
       "  'even': False,\n",
       "  'lucky numbers': [1, 2, 3],\n",
       "  '(3, 4)': [5, 6]},\n",
       " {'_id': ObjectId('5cf7fff5caeb5981c40a0cb0'),\n",
       "  'rpg_character': [1, 'Urik the Seer', 10, 3, 0, 0, 0]},\n",
       " {'_id': ObjectId('5cf80033caeb5981c40a0cb1'),\n",
       "  'sql_id': 1,\n",
       "  'name': 'Urik the Seer',\n",
       "  'hp': 10,\n",
       "  'level': 3},\n",
       " {'_id': ObjectId('5cf800c2caeb5981c40a0cb2'),\n",
       "  'sql_id': 1,\n",
       "  'name': 'Tyrael',\n",
       "  'hp': 10,\n",
       "  'level': 4}]"
      ]
     },
     "execution_count": 44,
     "metadata": {},
     "output_type": "execute_result"
    }
   ],
   "source": [
    "list(db.test.find())"
   ]
  },
  {
   "cell_type": "code",
   "execution_count": 45,
   "metadata": {},
   "outputs": [
    {
     "data": {
      "text/plain": [
       "[{'_id': ObjectId('5cf800c2caeb5981c40a0cb2'),\n",
       "  'sql_id': 1,\n",
       "  'name': 'Tyrael',\n",
       "  'hp': 10,\n",
       "  'level': 4}]"
      ]
     },
     "execution_count": 45,
     "metadata": {},
     "output_type": "execute_result"
    }
   ],
   "source": [
    "list(db.test.find({'hp': 10, 'level': 4}))"
   ]
  },
  {
   "cell_type": "markdown",
   "metadata": {},
   "source": [
    "# Assignment"
   ]
  },
  {
   "cell_type": "markdown",
   "metadata": {},
   "source": [
    "**\"How was working with MongoDB different from working with\n",
    "PostgreSQL? What was easier, and what was harder?\"**\n",
    "\n",
    "I think a major difference between the two is the lack of a _required_ schema in MongoDB. There is still a schema-like structure per query (the dictionary data structure), but rows can still vary inside of a table, unlike PostgreSQL. A similarity between them is that they both offer a query result that can be indexed and iterated over. MongoDB operates differently from an API perspective as well; Commands for querying, for example, are class methods. In PostgreSQL the query would be passed around as a `str`-type SQL statement. \n",
    "\n",
    "There's less strictness in the operability of MongoDB, so I feel like its easier to create a table and impute data. I could imagine that in a situation where data has not been cleaned or normalized then it might be a lot easier to store it in MongoDB for further processing as compared to PostgreSQL. Given the fact that data inside of a given table can be more irregular in MongoDB I think that querying can be more difficult compared to PostgreSQL. There are less guarantees about the stored data."
   ]
  },
  {
   "cell_type": "code",
   "execution_count": 46,
   "metadata": {},
   "outputs": [],
   "source": [
    "import sqlite3\n",
    "\n",
    "conn = sqlite3.Connection('../module1-introduction-to-sql/rpg_db.sqlite3')\n",
    "curs = conn.cursor()"
   ]
  },
  {
   "cell_type": "code",
   "execution_count": 51,
   "metadata": {},
   "outputs": [
    {
     "name": "stdout",
     "output_type": "stream",
     "text": [
      "[(37,)]\n"
     ]
    }
   ],
   "source": [
    "print(curs.execute('SELECT COUNT(*) FROM armory_weapon;').fetchall())"
   ]
  },
  {
   "cell_type": "code",
   "execution_count": 55,
   "metadata": {},
   "outputs": [
    {
     "name": "stdout",
     "output_type": "stream",
     "text": [
      "(1, 'Aliquid iste optio reiciendi', 0, 0, 10, 1, 1, 1, 1)\n"
     ]
    }
   ],
   "source": [
    "print(curs.execute('SELECT * FROM charactercreator_character').fetchone())"
   ]
  },
  {
   "cell_type": "code",
   "execution_count": 56,
   "metadata": {},
   "outputs": [],
   "source": [
    "# Fetch all characters from rpg_db.sqlite3\n",
    "results = curs.execute('SELECT * FROM charactercreator_character').fetchall()\n",
    "\n",
    "# Populate db.charactercreator_character table\n",
    "for character in results:\n",
    "    db.charactercreator_character.insert_one({\n",
    "        'sql_id': character[0],\n",
    "        'name': character[1],\n",
    "        'level': character[2],\n",
    "        'exp': character[3],\n",
    "        'hp': character[4],\n",
    "        'strength': character[5],\n",
    "        'intelligence': character[6],\n",
    "        'dexterity': character[7],\n",
    "        'wisdown': character[8],\n",
    "    })"
   ]
  },
  {
   "cell_type": "code",
   "execution_count": 63,
   "metadata": {},
   "outputs": [
    {
     "data": {
      "text/plain": [
       "[{'_id': ObjectId('5cf80c8ecaeb5981c40a0cbc'),\n",
       "  'sql_id': 10,\n",
       "  'name': 'Harum repellendus omnis od',\n",
       "  'level': 0,\n",
       "  'exp': 0,\n",
       "  'hp': 10,\n",
       "  'strength': 1,\n",
       "  'intelligence': 1,\n",
       "  'dexterity': 1,\n",
       "  'wisdown': 1}]"
      ]
     },
     "execution_count": 63,
     "metadata": {},
     "output_type": "execute_result"
    }
   ],
   "source": [
    "# Query MongoDB Atlas\n",
    "list(db.charactercreator_character.find({'sql_id': 10}))"
   ]
  },
  {
   "cell_type": "code",
   "execution_count": 64,
   "metadata": {},
   "outputs": [],
   "source": [
    "results = curs.execute('SELECT * FROM charactercreator_mage').fetchall()\n",
    "\n",
    "for character in results:\n",
    "    db.charactercreator_mage.insert_one({\n",
    "        'character_ptr_id': character[0],\n",
    "        'has_pet': character[1],\n",
    "        'mana': character[2],\n",
    "    })"
   ]
  },
  {
   "cell_type": "code",
   "execution_count": 72,
   "metadata": {},
   "outputs": [
    {
     "data": {
      "text/plain": [
       "[{'_id': ObjectId('5cf81040caeb5981c40a0e00'),\n",
       "  'character_ptr_id': 100,\n",
       "  'has_pet': 1,\n",
       "  'mana': 100}]"
      ]
     },
     "execution_count": 72,
     "metadata": {},
     "output_type": "execute_result"
    }
   ],
   "source": [
    "list(db.charactercreator_mage.find({'character_ptr_id': 100}))"
   ]
  }
 ],
 "metadata": {
  "kernelspec": {
   "display_name": "Python 3",
   "language": "python",
   "name": "python3"
  },
  "language_info": {
   "codemirror_mode": {
    "name": "ipython",
    "version": 3
   },
   "file_extension": ".py",
   "mimetype": "text/x-python",
   "name": "python",
   "nbconvert_exporter": "python",
   "pygments_lexer": "ipython3",
   "version": "3.7.3"
  }
 },
 "nbformat": 4,
 "nbformat_minor": 2
}
